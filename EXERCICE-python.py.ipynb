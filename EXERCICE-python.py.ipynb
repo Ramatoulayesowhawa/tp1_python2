{
 "cells": [
  {
   "cell_type": "markdown",
   "id": "f3f8fd7a",
   "metadata": {},
   "source": [
    "# exo 1"
   ]
  },
  {
   "cell_type": "code",
   "execution_count": 1,
   "id": "6e8845fd",
   "metadata": {},
   "outputs": [
    {
     "name": "stdout",
     "output_type": "stream",
     "text": [
      "donnez la valeur de a 22\n",
      "donnez la valeur de b 9\n",
      "donnez la valeur de c 0\n",
      "22 est le maximum\n"
     ]
    }
   ],
   "source": [
    "a=int(input(\"donnez la valeur de a \"))\n",
    "b=int(input(\"donnez la valeur de b \"))\n",
    "c=int(input(\"donnez la valeur de c \"))\n",
    "if a>b and a>c:\n",
    "    print (a,\"est le maximum\")\n",
    "elif b>a and b>c:\n",
    "    print (b,\"est le maximum\")\n",
    "else:\n",
    "    print (c,\"est le maximum\")"
   ]
  },
  {
   "cell_type": "markdown",
   "id": "cb997f31",
   "metadata": {},
   "source": [
    "# exo 2"
   ]
  },
  {
   "cell_type": "code",
   "execution_count": 6,
   "id": "12bfc938",
   "metadata": {},
   "outputs": [
    {
     "name": "stdout",
     "output_type": "stream",
     "text": [
      "Entrez une lettre p\n",
      "p est une consonne\n"
     ]
    }
   ],
   "source": [
    "u=input('Entrez une lettre ')\n",
    "if u in('aeoiuAEOUI'):\n",
    "    print(u,'est une voyelle')\n",
    "else:\n",
    "    print(u,'est une consonne')"
   ]
  },
  {
   "cell_type": "markdown",
   "id": "7af84193",
   "metadata": {},
   "source": [
    "# exo 3"
   ]
  },
  {
   "cell_type": "code",
   "execution_count": 7,
   "id": "8b9d025d",
   "metadata": {},
   "outputs": [
    {
     "name": "stdout",
     "output_type": "stream",
     "text": [
      "Entrez le numero du jour2\n",
      "mardi\n"
     ]
    }
   ],
   "source": [
    "o=int(input('Entrez le numero du jour'))\n",
    "if o==1:\n",
    "    print('lundi')\n",
    "if o==2:\n",
    "    print('mardi')\n",
    "if o==3:\n",
    "    print('mercredi')\n",
    "if o==4:\n",
    "    print('jeudi')\n",
    "if o==5:\n",
    "    print('vendredi')\n",
    "if o==6:\n",
    "    print('samedi')\n",
    "if o==7:\n",
    "    print('dimanche')"
   ]
  },
  {
   "cell_type": "markdown",
   "id": "e09a7ad8",
   "metadata": {},
   "source": [
    "# exo 4"
   ]
  },
  {
   "cell_type": "code",
   "execution_count": 11,
   "id": "ad1da87a",
   "metadata": {
    "scrolled": true
   },
   "outputs": [
    {
     "name": "stdout",
     "output_type": "stream",
     "text": [
      "Entrez l'annee 2004\n",
      "l'annee est bissextile\n"
     ]
    }
   ],
   "source": [
    "q=int(input(\"Entrez l'annee \"))\n",
    "if q%4==0 and q%100!=0 or q%400==0:\n",
    "    print(\"l'annee est bissextile\")\n",
    "else:\n",
    "    print(\"l'annee n'est pas bissextile\")\n",
    "            \n",
    "            "
   ]
  },
  {
   "cell_type": "markdown",
   "id": "35931f02",
   "metadata": {},
   "source": [
    "# exo8"
   ]
  },
  {
   "cell_type": "code",
   "execution_count": 11,
   "id": "26292011",
   "metadata": {},
   "outputs": [
    {
     "name": "stdout",
     "output_type": "stream",
     "text": [
      "18\t17\t16\t\n",
      "15\t14\t13\t\n",
      "12\t11\t10\t\n",
      "9\t8\t7\t\n",
      "6\t5\t4\t\n",
      "3\t2\t1\t\n"
     ]
    }
   ],
   "source": [
    "c=1\n",
    "for i in range(18,0,-1):\n",
    "    print(i,end=\"\\t\")\n",
    "    if c%3==0:\n",
    "        print()\n",
    "    c=c+1"
   ]
  },
  {
   "cell_type": "markdown",
   "id": "3aaff41b",
   "metadata": {},
   "source": [
    "# exo 7"
   ]
  },
  {
   "cell_type": "code",
   "execution_count": 3,
   "id": "d009d0f2",
   "metadata": {},
   "outputs": [
    {
     "name": "stdout",
     "output_type": "stream",
     "text": [
      "le mot informatique possede 6 voyelles\n"
     ]
    }
   ],
   "source": [
    "s=\"informatique\"\n",
    "d=len(s)\n",
    "nbvoyelle=0\n",
    "for i in range(0,d):\n",
    "    if s[i] in [\"i\",\"o\",\"a\",\"u\",\"e\"]:\n",
    "        nbvoyelle+=1\n",
    "print(\"le mot\",s ,\"possede\",nbvoyelle,\"voyelles\")"
   ]
  },
  {
   "cell_type": "markdown",
   "id": "fcc931ee",
   "metadata": {},
   "source": [
    "# exo 9"
   ]
  },
  {
   "cell_type": "code",
   "execution_count": null,
   "id": "d217b4e6",
   "metadata": {},
   "outputs": [],
   "source": [
    "nbn=10\n",
    "sn=0\n",
    "nmax=0\n",
    "nmin=20\n",
    "for i in range (1,nbn+1):\n",
    "    print(\"entrer la note n\",i)\n",
    "         n=float(input())\n",
    "          \n",
    "          while n>0 or n<o:\n",
    "             print(\"entrer la note n\",i)\n",
    "             n=float(input())\n",
    "          sn=sn+n\n",
    "          if nmin>n: nmin=n\n",
    "          if nmax<n: nmax=n\n",
    "m=sn/nbn\n",
    "print(\"la moyenne des note est\",m)\n",
    " print(\"la note minimale est\",nmin)\n",
    " print(\"la note maximale est\",nmax)"
   ]
  },
  {
   "cell_type": "markdown",
   "id": "2e83ecd6",
   "metadata": {},
   "source": [
    "# exo 6"
   ]
  },
  {
   "cell_type": "code",
   "execution_count": null,
   "id": "2fb532ec",
   "metadata": {},
   "outputs": [],
   "source": [
    "n=int(input(\"saisissez le nombre de ligne:\"))\n",
    "for i in range(1,n+1):\n",
    "    for j in range(i):\n",
    "        print(\"* \",end=\"\")\n",
    "    print(\"\")\n"
   ]
  },
  {
   "cell_type": "code",
   "execution_count": null,
   "id": "9d1870de",
   "metadata": {},
   "outputs": [],
   "source": []
  }
 ],
 "metadata": {
  "kernelspec": {
   "display_name": "Python 3",
   "language": "python",
   "name": "python3"
  },
  "language_info": {
   "codemirror_mode": {
    "name": "ipython",
    "version": 3
   },
   "file_extension": ".py",
   "mimetype": "text/x-python",
   "name": "python",
   "nbconvert_exporter": "python",
   "pygments_lexer": "ipython3",
   "version": "3.8.8"
  }
 },
 "nbformat": 4,
 "nbformat_minor": 5
}
