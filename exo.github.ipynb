{
 "cells": [
  {
   "cell_type": "markdown",
   "id": "9492a1ce",
   "metadata": {},
   "source": [
    "# Exercice 14"
   ]
  },
  {
   "cell_type": "code",
   "execution_count": 6,
   "id": "b6a649e3",
   "metadata": {},
   "outputs": [
    {
     "name": "stdout",
     "output_type": "stream",
     "text": [
      "entrer un nombre :2\n",
      "la somme est : 6\n"
     ]
    }
   ],
   "source": [
    "a=int(input(\"entrer un nombre :\"))\n",
    "som=0\n",
    "for i in range (0,4) :\n",
    "    som=som+i\n",
    "\n",
    "print(\"la somme est :\",som)"
   ]
  },
  {
   "cell_type": "markdown",
   "id": "6be5d5f7",
   "metadata": {},
   "source": [
    "# exo 12"
   ]
  },
  {
   "cell_type": "code",
   "execution_count": 27,
   "id": "a62fa9cd",
   "metadata": {},
   "outputs": [
    {
     "name": "stdout",
     "output_type": "stream",
     "text": [
      "entrer un nombre :255\n",
      "entrer un nombre :141\n",
      "pgcd= 114\n"
     ]
    }
   ],
   "source": [
    "a=int(input(\"entrer un nombre :\"))\n",
    "b=int(input(\"entrer un nombre :\"))\n",
    "while a!=b:\n",
    "    d=abs(b-a)\n",
    "    b=a\n",
    "    a=b\n",
    "print(\"pgcd=\",d)\n",
    "if d==1:\n",
    "    print(\"les deux entier sont premiers entre eux\")\n"
   ]
  },
  {
   "cell_type": "markdown",
   "id": "7eff5e4b",
   "metadata": {},
   "source": [
    "# Exercice 16"
   ]
  },
  {
   "cell_type": "code",
   "execution_count": null,
   "id": "cdf7e8c8",
   "metadata": {},
   "outputs": [],
   "source": [
    "i=7\n",
    "while i<150:\n",
    "    i=i+1\n",
    "    if i%7==0 :\n",
    "        print(i)"
   ]
  },
  {
   "cell_type": "markdown",
   "id": "600fdc8e",
   "metadata": {},
   "source": [
    "# Exercice 15"
   ]
  },
  {
   "cell_type": "code",
   "execution_count": 10,
   "id": "dbc8c8d1",
   "metadata": {},
   "outputs": [
    {
     "name": "stdout",
     "output_type": "stream",
     "text": [
      "entrer un nombre :6\n",
      "50069\n"
     ]
    }
   ],
   "source": [
    "n=int (input(\"entrer un nombre :\"))\n",
    "somme=0\n",
    "for i in range(1,n+1) :\n",
    "    somme=somme+(i**i)\n",
    "print(somme)"
   ]
  },
  {
   "cell_type": "markdown",
   "id": "5ac82a6f",
   "metadata": {},
   "source": [
    "# Exo 17"
   ]
  },
  {
   "cell_type": "code",
   "execution_count": 13,
   "id": "91cfe4ee",
   "metadata": {},
   "outputs": [
    {
     "name": "stdout",
     "output_type": "stream",
     "text": [
      "32\n"
     ]
    }
   ],
   "source": [
    "i=1\n",
    "while i*i<=1000:\n",
    "        i=i+1\n",
    "print (i)"
   ]
  },
  {
   "cell_type": "markdown",
   "id": "4ea9672f",
   "metadata": {},
   "source": [
    "# Exo 10"
   ]
  },
  {
   "cell_type": "code",
   "execution_count": 17,
   "id": "036d1780",
   "metadata": {},
   "outputs": [
    {
     "name": "stdout",
     "output_type": "stream",
     "text": [
      "veillez repondre par oui ou non \n",
      "vous etes adulte ? quoi\n",
      "vous devez repondre par oui ou  non\n"
     ]
    }
   ],
   "source": [
    "print(\"veillez repondre par oui ou non \")\n",
    "a=(input(\"vous etes adulte ? \"))\n",
    "if a==\"oui\" or a==\"non\" :\n",
    "    print(\"bravo\")\n",
    "    \n",
    "else :\n",
    "    print(\"vous devez repondre par oui ou  non\")"
   ]
  },
  {
   "cell_type": "markdown",
   "id": "6b85a0ff",
   "metadata": {},
   "source": [
    " # exo13"
   ]
  },
  {
   "cell_type": "code",
   "execution_count": 18,
   "id": "9a44abfa",
   "metadata": {},
   "outputs": [
    {
     "name": "stdout",
     "output_type": "stream",
     "text": [
      "0 1 2 3 4 5 6 7 8 9 \n",
      "0 1 2 3 4 5 6 7 8 9 \n",
      "0 1 2 3 4 5 6 7 8 9 \n",
      "0 1 2 3 4 5 6 7 8 9 \n",
      "0 1 2 3 4 5 6 7 8 9 \n"
     ]
    }
   ],
   "source": [
    "for i in range(1,6):\n",
    "    for i in range(10):\n",
    "        print(i, end=\" \")\n",
    "    print( )"
   ]
  },
  {
   "cell_type": "markdown",
   "id": "9c7072bb",
   "metadata": {},
   "source": [
    "# exo 11"
   ]
  },
  {
   "cell_type": "code",
   "execution_count": 21,
   "id": "ef765387",
   "metadata": {},
   "outputs": [
    {
     "ename": "TypeError",
     "evalue": "randint() missing 1 required positional argument: 'b'",
     "output_type": "error",
     "traceback": [
      "\u001b[1;31m---------------------------------------------------------------------------\u001b[0m",
      "\u001b[1;31mTypeError\u001b[0m                                 Traceback (most recent call last)",
      "\u001b[1;32m<ipython-input-21-57e7eb1359d3>\u001b[0m in \u001b[0;36m<module>\u001b[1;34m\u001b[0m\n\u001b[0;32m      1\u001b[0m \u001b[1;32mimport\u001b[0m \u001b[0mrandom\u001b[0m\u001b[1;33m\u001b[0m\u001b[1;33m\u001b[0m\u001b[0m\n\u001b[0;32m      2\u001b[0m \u001b[0mn\u001b[0m\u001b[1;33m=\u001b[0m\u001b[0mrandom\u001b[0m\u001b[1;33m.\u001b[0m\u001b[0mrandint\u001b[0m\u001b[1;33m(\u001b[0m\u001b[1;36m1\u001b[0m\u001b[1;33m,\u001b[0m\u001b[1;36m100\u001b[0m\u001b[1;33m)\u001b[0m\u001b[1;33m\u001b[0m\u001b[1;33m\u001b[0m\u001b[0m\n\u001b[1;32m----> 3\u001b[1;33m \u001b[0mnb\u001b[0m\u001b[1;33m=\u001b[0m\u001b[0mrandom\u001b[0m\u001b[1;33m.\u001b[0m\u001b[0mrandint\u001b[0m\u001b[1;33m(\u001b[0m\u001b[1;36m67\u001b[0m\u001b[1;33m)\u001b[0m\u001b[1;33m\u001b[0m\u001b[1;33m\u001b[0m\u001b[0m\n\u001b[0m\u001b[0;32m      4\u001b[0m \u001b[1;32mwhile\u001b[0m\u001b[1;33m(\u001b[0m\u001b[0mnb\u001b[0m \u001b[1;33m!=\u001b[0m\u001b[1;36m0\u001b[0m\u001b[1;33m)\u001b[0m\u001b[1;33m:\u001b[0m\u001b[1;33m\u001b[0m\u001b[1;33m\u001b[0m\u001b[0m\n\u001b[0;32m      5\u001b[0m     \u001b[0mprint\u001b[0m\u001b[1;33m(\u001b[0m\u001b[1;34m\"entrer un nombre entre 1 et 100\"\u001b[0m\u001b[1;33m)\u001b[0m\u001b[1;33m\u001b[0m\u001b[1;33m\u001b[0m\u001b[0m\n",
      "\u001b[1;31mTypeError\u001b[0m: randint() missing 1 required positional argument: 'b'"
     ]
    }
   ],
   "source": [
    "import random\n",
    "n=random.randint(1,100)\n",
    "nb=random.randint(67)\n",
    "while(nb !=0):\n",
    "    print(\"entrer un nombre entre 1 et 100\")\n",
    "    if nb<n:\n",
    "        print(\"c'est petit\")\n",
    "    elif nb<n:\n",
    "        print(\"c'est plus\")\n",
    "    else :\n",
    "        print(\"print test\")"
   ]
  },
  {
   "cell_type": "markdown",
   "id": "04ce7274",
   "metadata": {},
   "source": [
    "# exo 18"
   ]
  },
  {
   "cell_type": "code",
   "execution_count": 24,
   "id": "0cbdeb43",
   "metadata": {},
   "outputs": [
    {
     "name": "stdout",
     "output_type": "stream",
     "text": [
      "entrer un nombre :135\n",
      "135 n est pas un nombre ARMSTONG\n"
     ]
    }
   ],
   "source": [
    "nbr=int(input(\"entrer un nombre :\"))\n",
    "s=0\n",
    "tmp=nbr\n",
    "while tmp > 0:\n",
    "    d=tmp % 10\n",
    "    s+=d** 3\n",
    "    tmp //= 10\n",
    "if nbr==s:\n",
    "    print(nbr,\"est un nombre ARMSTRONG\")\n",
    "else:\n",
    "    print(nbr,\"n est pas un nombre ARMSTONG\")"
   ]
  },
  {
   "cell_type": "markdown",
   "id": "73f55e01",
   "metadata": {},
   "source": [
    "# exo20"
   ]
  },
  {
   "cell_type": "code",
   "execution_count": 26,
   "id": "ccfa80d4",
   "metadata": {},
   "outputs": [
    {
     "name": "stdout",
     "output_type": "stream",
     "text": [
      "entrer un nombre :4\n",
      "entrer un nombre :12\n",
      "le PPCM de 4 et 12 est: 12\n"
     ]
    }
   ],
   "source": [
    "a=int(input(\"entrer un nombre :\"))\n",
    "b=int(input(\"entrer un nombre :\"))\n",
    "if a>b:\n",
    "    plus_grand=a\n",
    "else:\n",
    "    plus_grand=b\n",
    "i=a*b\n",
    "while i>=plus_grand:\n",
    "    if i%a==0 and i%b==0:\n",
    "        multiple=i\n",
    "    i=i-1\n",
    "print(\"le PPCM de\",a,\"et\",b,\"est:\",multiple)\n",
    "\n"
   ]
  },
  {
   "cell_type": "code",
   "execution_count": null,
   "id": "081502b6",
   "metadata": {},
   "outputs": [],
   "source": []
  }
 ],
 "metadata": {
  "kernelspec": {
   "display_name": "Python 3",
   "language": "python",
   "name": "python3"
  },
  "language_info": {
   "codemirror_mode": {
    "name": "ipython",
    "version": 3
   },
   "file_extension": ".py",
   "mimetype": "text/x-python",
   "name": "python",
   "nbconvert_exporter": "python",
   "pygments_lexer": "ipython3",
   "version": "3.8.8"
  }
 },
 "nbformat": 4,
 "nbformat_minor": 5
}
